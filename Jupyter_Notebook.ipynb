{
 "cells": [
  {
   "cell_type": "markdown",
   "metadata": {},
   "source": [
    "<center>\n",
    "    <img src=\"https://cf-courses-data.s3.us.cloud-object-storage.appdomain.cloud/IBMDeveloperSkillsNetwork-DS0105EN-SkillsNetwork/labs/Module2/images/SN_web_lightmode.png\" width=\"300\" alt=\"cognitiveclass.ai logo\">\n",
    "</center>\n"
   ]
  },
  {
   "cell_type": "markdown",
   "metadata": {},
   "source": [
    "# Jupyter_Notebook.ipynb\n"
   ]
  },
  {
   "cell_type": "markdown",
   "metadata": {},
   "source": [
    "# Introduction\n",
    "\n",
    "Welcome to this notebook! In this notebook, we will be exploring various data science, machine learning, and artificial intelligence topics. We will learn how to use Python and its various libraries to process data, visualize it, build models, and make predictions. \n",
    "\n",
    "This notebook is suitable for beginners who are just starting to learn data science and machine learning, as well as for those who already have some experience and want to improve their skills. \n",
    "\n",
    "Let's dive into the exciting world of data science and machine learning!\n"
   ]
  },
  {
   "cell_type": "markdown",
   "metadata": {},
   "source": [
    "# Data Science Languages\n",
    "\n",
    "Here are some popular programming languages used in data science:\n",
    "\n",
    "- Python\n",
    "- R\n",
    "- SQL\n",
    "- Julia\n",
    "- MATLAB\n",
    "- Scala\n",
    "- Java\n",
    "- SAS\n",
    "- C++\n",
    "- Julia\n",
    "\n",
    "Depending on the task at hand, one language may be more suitable than others. However, Python and R are currently the most popular languages in the data science community due to their versatility and extensive libraries.\n"
   ]
  },
  {
   "cell_type": "markdown",
   "metadata": {},
   "source": [
    "# Data Science Libraries\n",
    "\n",
    "Here are some popular Python libraries used in data science:\n",
    "\n",
    "- NumPy\n",
    "- Pandas\n",
    "- Matplotlib\n",
    "- Seaborn\n",
    "- Scikit-learn\n",
    "- TensorFlow\n",
    "- Keras\n",
    "- PyTorch\n",
    "- NLTK\n",
    "- BeautifulSoup\n",
    "\n",
    "Depending on the task at hand, one library may be more suitable than others. However, these libraries are widely used and offer a wide range of functionalities for data processing, visualization, machine learning, and natural language processing tasks.\n"
   ]
  },
  {
   "cell_type": "markdown",
   "metadata": {},
   "source": [
    "# Data Science Tools\n",
    "\n",
    "| Tool           | Description                                      |\n",
    "|----------------|--------------------------------------------------|\n",
    "| Jupyter Notebook | Interactive notebook for data exploration and analysis |\n",
    "| GitHub         | Version control and collaboration platform for code |\n",
    "| Docker         | Containerization platform for reproducible environments |\n",
    "| Apache Spark   | Big data processing engine for distributed computing |\n",
    "| Tableau        | Data visualization and business intelligence tool |\n",
    "| Databricks     | Cloud-based big data processing and machine learning platform |\n",
    "| AWS            | Cloud computing platform with various data processing and machine learning tools |\n",
    "\n",
    "These are just a few of the many tools available for data science. Depending on the task at hand and the size of the data, some tools may be more suitable than others. It's important to evaluate and choose the right tool for each project to maximize efficiency and productivity.\n"
   ]
  },
  {
   "cell_type": "markdown",
   "metadata": {},
   "source": [
    "# Arithmetic Expressions\n",
    "\n",
    "In programming, arithmetic expressions are used to perform mathematical calculations. These expressions can be as simple as adding two numbers together, or as complex as evaluating a complex algebraic expression. Here are a few examples:\n",
    "\n",
    "In Python, arithmetic operators follow the same rules of precedence as in mathematics. Parentheses can be used to group sub-expressions and change the order of operations. Understanding arithmetic expressions is an important foundation for many data science and machine learning tasks.\n",
    "\n"
   ]
  },
  {
   "cell_type": "code",
   "execution_count": 1,
   "metadata": {},
   "outputs": [
    {
     "name": "stdout",
     "output_type": "stream",
     "text": [
      "12\n"
     ]
    }
   ],
   "source": [
    "a = 3\n",
    "b = 4\n",
    "result = a * b\n",
    "print(result)\n"
   ]
  },
  {
   "cell_type": "code",
   "execution_count": 3,
   "metadata": {},
   "outputs": [
    {
     "name": "stdout",
     "output_type": "stream",
     "text": [
      "7\n"
     ]
    }
   ],
   "source": [
    "a = 3\n",
    "b = 4\n",
    "result = a + b\n",
    "print(result)\n"
   ]
  },
  {
   "cell_type": "code",
   "execution_count": 4,
   "metadata": {},
   "outputs": [
    {
     "name": "stdin",
     "output_type": "stream",
     "text": [
      "Enter the number of minutes:  90\n"
     ]
    },
    {
     "name": "stdout",
     "output_type": "stream",
     "text": [
      "90.0 minutes is equal to 1.50 hours.\n"
     ]
    }
   ],
   "source": [
    "# input the number of minutes\n",
    "minutes = float(input(\"Enter the number of minutes: \"))\n",
    "\n",
    "# calculate the number of hours\n",
    "hours = minutes / 60\n",
    "\n",
    "# display the result\n",
    "print(f\"{minutes} minutes is equal to {hours:.2f} hours.\")\n"
   ]
  },
  {
   "cell_type": "markdown",
   "metadata": {},
   "source": [
    "# Objectives\n",
    "\n",
    "The objectives of this project are:\n",
    "\n",
    "* Create a markdown cell with the title of the notebook\n",
    "* Create a markdown cell for an introduction\n",
    "* Create a markdown cell to list data science languages\n",
    "* Create a markdown cell to list data science libraries\n",
    "* Create a markdown cell with a table of Data Science tools\n",
    "* Create a markdown cell introducing arithmetic expression examples\n",
    "* Create a code cell to multiply and add numbers\n",
    "* Create a code cell to convert minutes to hours\n",
    "* Create a markdown cell to indicate the Author’s name\n",
    "* Share your notebook through GitHub\n",
    "* Take a screenshot of the first page of the notebook\n"
   ]
  },
  {
   "cell_type": "markdown",
   "metadata": {},
   "source": [
    "# Author's Name:tariq abdullah shah"
   ]
  },
  {
   "cell_type": "code",
   "execution_count": null,
   "metadata": {},
   "outputs": [],
   "source": []
  }
 ],
 "metadata": {
  "kernelspec": {
   "display_name": "Python",
   "language": "python",
   "name": "conda-env-python-py"
  },
  "language_info": {
   "codemirror_mode": {
    "name": "ipython",
    "version": 3
   },
   "file_extension": ".py",
   "mimetype": "text/x-python",
   "name": "python",
   "nbconvert_exporter": "python",
   "pygments_lexer": "ipython3",
   "version": "3.7.12"
  }
 },
 "nbformat": 4,
 "nbformat_minor": 4
}
